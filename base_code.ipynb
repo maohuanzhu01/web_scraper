{
 "cells": [
  {
   "cell_type": "code",
   "execution_count": 5,
   "metadata": {},
   "outputs": [],
   "source": [
    "import requests\n",
    "from bs4 import BeautifulSoup\n",
    "import pandas as pd\n",
    "import time\n",
    "import random"
   ]
  },
  {
   "cell_type": "code",
   "execution_count": 8,
   "metadata": {},
   "outputs": [],
   "source": [
    "# Define the URL of the website\n",
    "url = \"https://www.oishiiplanet.it/collections/alimentari\"  \n",
    "# User-Agent to simulate a real browser request\n",
    "headers = {\n",
    "    \"User-Agent\": \"Mozilla/5.0 (Windows NT 10.0; Win64; x64) AppleWebKit/537.36 (KHTML, like Gecko) Chrome/87.0.4280.88 Safari/537.36\"\n",
    "}"
   ]
  },
  {
   "cell_type": "code",
   "execution_count": 9,
   "metadata": {},
   "outputs": [],
   "source": [
    "# Lists to hold data\n",
    "product_names = []\n",
    "prices = []\n",
    "country_labels = []\n",
    "num_reviews = []"
   ]
  },
  {
   "cell_type": "code",
   "execution_count": 10,
   "metadata": {},
   "outputs": [
    {
     "name": "stdout",
     "output_type": "stream",
     "text": [
      "Data saved to snack_products.csv\n"
     ]
    }
   ],
   "source": [
    "# Make a request to the website\n",
    "try:\n",
    "    response = requests.get(url, headers=headers)\n",
    "    response.raise_for_status()  # Check if request was successful\n",
    "    soup = BeautifulSoup(response.text, \"html.parser\")\n",
    "\n",
    "    # Locate the product listing section on the webpage\n",
    "    product_elements = soup.find_all(\"div\", class_=\"product-item\")  # Adjust based on the actual class name\n",
    "    \n",
    "    # Loop through each product item and extract details\n",
    "    for product in product_elements:\n",
    "        # Product name\n",
    "        name = product.find(\"h2\", class_=\"product-title\").get_text(strip=True)\n",
    "        product_names.append(name)\n",
    "\n",
    "        # Price\n",
    "        price = product.find(\"span\", class_=\"product-price\").get_text(strip=True)\n",
    "        prices.append(price)\n",
    "\n",
    "        # Country label (if present)\n",
    "        country = product.find(\"span\", class_=\"country-label\")\n",
    "        if country:\n",
    "            country_labels.append(country.get_text(strip=True))\n",
    "        else:\n",
    "            country_labels.append(\"N/A\")\n",
    "\n",
    "        # Number of reviews (if present)\n",
    "        reviews = product.find(\"span\", class_=\"review-count\")\n",
    "        if reviews:\n",
    "            num_reviews.append(reviews.get_text(strip=True))\n",
    "        else:\n",
    "            num_reviews.append(\"0\")\n",
    "\n",
    "        # Optional: add a delay to avoid rapid-fire requests\n",
    "        time.sleep(random.uniform(0.5, 2.0))\n",
    "\n",
    "    # Create a DataFrame and save data\n",
    "    data = pd.DataFrame({\n",
    "        \"Product Name\": product_names,\n",
    "        \"Price\": prices,\n",
    "        \"Country Label\": country_labels,\n",
    "        \"Number of Reviews\": num_reviews\n",
    "    })\n",
    "\n",
    "    # Save data to a CSV file\n",
    "    data.to_csv(\"snack_products.csv\", index=False)\n",
    "    print(\"Data saved to snack_products.csv\")\n",
    "\n",
    "except requests.exceptions.RequestException as e:\n",
    "    print(f\"An error occurred: {e}\")\n"
   ]
  },
  {
   "cell_type": "code",
   "execution_count": 11,
   "metadata": {},
   "outputs": [
    {
     "name": "stdout",
     "output_type": "stream",
     "text": [
      "Data saved to snack_products.csv\n"
     ]
    }
   ],
   "source": [
    "from selenium import webdriver\n",
    "from bs4 import BeautifulSoup\n",
    "import pandas as pd\n",
    "import time\n",
    "\n",
    "# Set up the Selenium WebDriver\n",
    "# Make sure to download the correct driver (e.g., ChromeDriver, GeckoDriver) and add it to your PATH\n",
    "driver = webdriver.Chrome()  # or webdriver.Firefox() based on your browser\n",
    "\n",
    "# Navigate to the webpage\n",
    "url = \"https://www.oishiiplanet.it/collections/alimentari\"\n",
    "driver.get(url)\n",
    "\n",
    "# Give time for JavaScript to load the content\n",
    "time.sleep(5)  # Adjust based on loading time\n",
    "\n",
    "# Parse the page content with BeautifulSoup\n",
    "soup = BeautifulSoup(driver.page_source, \"html.parser\")\n",
    "\n",
    "# Lists to hold data\n",
    "product_names = []\n",
    "prices = []\n",
    "country_labels = []\n",
    "num_reviews = []  # May not be available on this site; adjust accordingly if not\n",
    "\n",
    "# Locate the product listing section\n",
    "product_elements = soup.find_all(\"div\", class_=\"grid-product__title\")  # Adjust class name based on inspection\n",
    "\n",
    "# Loop through each product item and extract details\n",
    "for product in product_elements:\n",
    "    # Product name\n",
    "    name = product.find(\"a\").get_text(strip=True)\n",
    "    product_names.append(name)\n",
    "\n",
    "    # Price\n",
    "    price = product.find_next(\"span\", class_=\"money\").get_text(strip=True)\n",
    "    prices.append(price)\n",
    "\n",
    "    # Country label (if present)\n",
    "    country = \"Unknown\"  # Replace with actual logic if country label is present\n",
    "    country_labels.append(country)\n",
    "\n",
    "    # Reviews (if present, otherwise set to 0 or 'N/A')\n",
    "    num_reviews.append(\"N/A\")\n",
    "\n",
    "# Quit the driver\n",
    "driver.quit()\n",
    "\n",
    "# Create a DataFrame and save data\n",
    "data = pd.DataFrame({\n",
    "    \"Product Name\": product_names,\n",
    "    \"Price\": prices,\n",
    "    \"Country Label\": country_labels,\n",
    "    \"Number of Reviews\": num_reviews\n",
    "})\n",
    "\n",
    "# Save data to a CSV file\n",
    "data.to_csv(\"snack_products.csv\", index=False)\n",
    "print(\"Data saved to snack_products.csv\")\n"
   ]
  },
  {
   "cell_type": "code",
   "execution_count": null,
   "metadata": {},
   "outputs": [],
   "source": []
  }
 ],
 "metadata": {
  "kernelspec": {
   "display_name": "Python 3",
   "language": "python",
   "name": "python3"
  },
  "language_info": {
   "codemirror_mode": {
    "name": "ipython",
    "version": 3
   },
   "file_extension": ".py",
   "mimetype": "text/x-python",
   "name": "python",
   "nbconvert_exporter": "python",
   "pygments_lexer": "ipython3",
   "version": "3.11.5"
  }
 },
 "nbformat": 4,
 "nbformat_minor": 2
}
